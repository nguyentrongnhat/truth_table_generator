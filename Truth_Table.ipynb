{
 "cells": [
  {
   "cell_type": "code",
   "execution_count": 7,
   "id": "13b16539",
   "metadata": {},
   "outputs": [],
   "source": [
    "import numpy as np\n",
    "import itertools"
   ]
  },
  {
   "cell_type": "code",
   "execution_count": 35,
   "id": "2c870ba6",
   "metadata": {},
   "outputs": [],
   "source": [
    "# HÀM NÀY CHUYỂN BIỂU THỨC TỪ TRUNG TỐ SANG HÂU TỐ\n",
    "def InFix2PostFix(s):\n",
    "    def reject(what): # Produce a readable error\n",
    "        raise SyntaxError(\"Expected {}, but got {} at index {}\".format(\n",
    "            what or \"EOF\", \n",
    "            \"'{}'\".format(tokens[-1]) if tokens else \"EOF\", \n",
    "            len(s) - len(tokens)\n",
    "        ))\n",
    "\n",
    "    get = lambda: tokens.pop() if tokens else \"\"\n",
    "    put = lambda token: output.append(token)\n",
    "    match = lambda what: tokens[-1] in what if tokens else what == \"\"\n",
    "    expect = lambda what: get() if match(what) else reject(what)\n",
    "\n",
    "    def suffix():\n",
    "        token = get()\n",
    "        term()\n",
    "        put(token)\n",
    "\n",
    "    def parens(): \n",
    "        expect(\"(\")\n",
    "        expression(\")\")\n",
    "\n",
    "    def term():\n",
    "        if match(identifier): put(get())\n",
    "        elif match(unary): suffix()\n",
    "        elif match(\"(\"): parens()\n",
    "        else: expect(\"an identifier, a unary operator or an opening parenthesis\");\n",
    "\n",
    "    def expression(terminator):\n",
    "        term()\n",
    "        if match(binary): suffix()\n",
    "        expect(terminator)\n",
    "\n",
    "    # Define the token groups\n",
    "    identifier = \"abcdefghijklmnopqrstuwxyz\"\n",
    "    identifier += identifier.upper()\n",
    "    unary = \"~\";\n",
    "    binary = \"&|→>=\";\n",
    "    tokens = list(reversed(s)) # More efficient to pop from the end\n",
    "    output = [] # Will be populated during the parsing\n",
    "    expression(\"\") # Parse!\n",
    "    return \"\".join(output)"
   ]
  },
  {
   "cell_type": "code",
   "execution_count": 36,
   "id": "eb0d30af",
   "metadata": {},
   "outputs": [],
   "source": [
    "# HÀM NÀY DÙNG ĐỂ SINH RA CÁC BIỂU THỨC CON ĐÃ TỔNG HỢP NÊN BIỂU THỨC CHÍNH\n",
    "def create_sub_expression(postfix):\n",
    "    final_postfix = []\n",
    "    for i in postfix:\n",
    "        #print(i)\n",
    "        final_postfix.append(i)\n",
    "    stack = []\n",
    "    result = []\n",
    "    #print(final_postfix)\n",
    "    while(len(final_postfix) != 0):\n",
    "        # lấy từ queue postfix \n",
    "        character = final_postfix[0]\n",
    "        #print('çharacter: ', character)\n",
    "        del final_postfix[0]\n",
    "        \n",
    "        # cho vào stack\n",
    "        if character in ['~', '&', '|', '>', '=',]:\n",
    "            if character != '~': # tao bieu thuc su ly hai toan han\n",
    "                toanhang2 = stack[-1]\n",
    "                del stack[-1]\n",
    "                toanhang1 = stack[-1]\n",
    "                del stack[-1]\n",
    "                #print('toanhang1: ',toanhang1, ' toanhang2: ', toanhang2, ' toantu:', character)\n",
    "                expression = toanhang1 + character + toanhang2\n",
    "                result.append(expression)\n",
    "                expression = '(' + expression + ')'\n",
    "                stack.append(expression)\n",
    "            elif character == '~': # tao bieu thuc su ly mot toan han\n",
    "                toanhang = stack[-1]\n",
    "                del stack[-1]\n",
    "                #print('toanhang: ',toanhang, ' toantu:', character)\n",
    "                expression = character + toanhang\n",
    "                result.append(expression)\n",
    "                expression = expression\n",
    "                stack.append(expression)\n",
    "        else:\n",
    "            stack.append(character)\n",
    "    #print('stack: ', stack)\n",
    "    #print('result: ', result)\n",
    "    return stack, result"
   ]
  },
  {
   "cell_type": "code",
   "execution_count": 37,
   "id": "f5445219",
   "metadata": {},
   "outputs": [],
   "source": [
    "# HÀM NÀY TẠO HEADER CHO BẢNG CHÂN TRỊ\n",
    "def createHeader(expression):\n",
    "    operand = []\n",
    "    for i in expression:\n",
    "        if(i not in ['~', '&', '|', '>', '=', '(', ')']):\n",
    "            operand.append(i)\n",
    "    operand = list(set(operand))\n",
    "    operand.sort()\n",
    "    stack, result = create_sub_expression(expression)\n",
    "    header = operand + result\n",
    "    return header"
   ]
  },
  {
   "cell_type": "code",
   "execution_count": 38,
   "id": "9c9de3f2",
   "metadata": {},
   "outputs": [],
   "source": [
    "def tinh_toan_hai_toan_hang(dic_input, toanhang1, toanhang2, toantu):\n",
    "    if(toanhang1 != False and toanhang1 != True):\n",
    "        toanhang1 = dic_input[toanhang1]\n",
    "    if(toanhang2 != False and toanhang2 != True):\n",
    "        toanhang2 = dic_input[toanhang2]\n",
    "    if(toantu == '&'):\n",
    "        return toanhang1 and toanhang2\n",
    "    elif(toantu == '|'):\n",
    "        return toanhang1 or toanhang2\n",
    "    elif(toantu == '>'):\n",
    "        if toanhang1:\n",
    "            return toanhang2\n",
    "        else :\n",
    "            return True\n",
    "    elif(toantu == '='):\n",
    "        return toanhang1 == toanhang2"
   ]
  },
  {
   "cell_type": "code",
   "execution_count": 39,
   "id": "a6854e17",
   "metadata": {},
   "outputs": [],
   "source": [
    "def tinh_toan_mot_toan_hang(dic_input, toanhang, toantu):\n",
    "    if(toanhang != False and toanhang != True):\n",
    "        toanhang = dic_input[toanhang]\n",
    "    if(toantu == '~'):\n",
    "        return not toanhang"
   ]
  },
  {
   "cell_type": "code",
   "execution_count": 40,
   "id": "d52a3821",
   "metadata": {},
   "outputs": [],
   "source": [
    "# HÀM NÀY TẠO BODY CHO BẢNG CHÂN TRỊ\n",
    "def createBody(postfix):\n",
    "    #bieuthuc = sinh_bieu_thuc(postfix)[0]\n",
    "    final_postfix = []\n",
    "    backup_final_postfix = []\n",
    "    toanhang = []\n",
    "    for i in postfix:\n",
    "        final_postfix.append(i)\n",
    "        backup_final_postfix.append(i)\n",
    "        if(i not in ['~', '&', '|', '>', '=', '(', ')']):\n",
    "            toanhang.append(i)\n",
    "    toanhang = list(set(toanhang))\n",
    "    toanhang.sort()\n",
    "    #print('toan hang: ', toanhang)\n",
    "    stack = []\n",
    "    result = []\n",
    "    \n",
    "    input = list(itertools.product([False,True],repeat=len(toanhang)))\n",
    "    dic_input = {}\n",
    "    list_dic_input = []\n",
    "    for i in input:\n",
    "        for j in range(len(toanhang)):      \n",
    "            dic_input[toanhang[j]] = i[j]\n",
    "        list_dic_input.append(dic_input)\n",
    "        dic_input = {}\n",
    "    result_item = []\n",
    "    for dic_input in list_dic_input:\n",
    "        for j in dic_input:\n",
    "            result_item.append(dic_input[j])\n",
    "        #print(dic_input)\n",
    "        while(len(final_postfix) != 0):\n",
    "            # lấy từ queue postfix \n",
    "            character = final_postfix[0]\n",
    "            del final_postfix[0]\n",
    "\n",
    "            # cho vào stack\n",
    "            if character in ['~', '&', '|', '>', '=',]:\n",
    "                if character != '~': # tao bieu thuc su ly hai toan han\n",
    "                    #print('tinh toan 2')\n",
    "                    toanhang2 = stack[-1]\n",
    "                    del stack[-1]\n",
    "                    toanhang1 = stack[-1]\n",
    "                    del stack[-1]\n",
    "                    #print('toanhang1: ',toanhang1, ' toanhang2: ', toanhang2, ' toantu:', character)\n",
    "                    re = tinh_toan_hai_toan_hang(dic_input, toanhang1, toanhang2, character)\n",
    "                    #print('ket qua:' , re)\n",
    "                    result_item.append(re)\n",
    "                    stack.append(re)\n",
    "                elif character == '~': # tao bieu thuc su ly mot toan han\n",
    "                    #print('tinh toan 1')\n",
    "                    toanhang = stack[-1]\n",
    "                    del stack[-1]\n",
    "                    #print('toanhang: ',toanhang, ' toantu:', character)\n",
    "                    re = tinh_toan_mot_toan_hang(dic_input, toanhang, character)\n",
    "                    #print('ket qua:' , re)\n",
    "                    result_item.append(re)\n",
    "                    stack.append(re)\n",
    "            else:\n",
    "                stack.append(character)\n",
    "        #print('KET QUA: ',result_item)\n",
    "        result.append(result_item)\n",
    "        result_item = []\n",
    "        final_postfix = backup_final_postfix.copy()\n",
    "\n",
    "    '''final_result = ''\n",
    "    for j in range(len(result)):\n",
    "        for k in range(len(result[j])):\n",
    "            final_result += str(result[j][k])\n",
    "            if(k == len(result[j])-1):\n",
    "                final_result += ';'\n",
    "            else:\n",
    "                final_result += ','\n",
    "    final_result = final_result[:-1]'''\n",
    "    #print (final_result)\n",
    "    #return final_result\n",
    "    return result"
   ]
  },
  {
   "cell_type": "code",
   "execution_count": 69,
   "id": "fddf2ce9",
   "metadata": {},
   "outputs": [
    {
     "name": "stdout",
     "output_type": "stream",
     "text": [
      "PQ&~PQ||\n"
     ]
    }
   ],
   "source": [
    "# chuyển từ trung tố sang hậu tố\n",
    "ex = InFix2PostFix(ex)\n",
    "print(ex)"
   ]
  },
  {
   "cell_type": "code",
   "execution_count": 41,
   "id": "e5a02f63",
   "metadata": {},
   "outputs": [],
   "source": [
    "# HÀM NÀY TỔNG HỢP HEADER VÀ BODY ĐỂ TẠO THÀNH BẢNG CHÂN TRỊ\n",
    "def createTable(header, body):\n",
    "    dic = {}\n",
    "    for i in range(len(body[0])):\n",
    "        list = []\n",
    "        for j in range(len(body)):\n",
    "            list.append(body[j][i])\n",
    "        dic[header[i]] = list\n",
    "    return dic"
   ]
  },
  {
   "cell_type": "markdown",
   "id": "a9b49d6e",
   "metadata": {},
   "source": [
    "CÁC BIỂU THỨC LOGIC CHUẨN BỊ SẲN\n",
    "\n",
    "    1. ~(P&Q)|(P|Q)\n",
    "    2. (~P|(Q&R))>R\n",
    "    3. ((P|~Q)>~P)=((P|~Q)>~P)"
   ]
  },
  {
   "cell_type": "code",
   "execution_count": 117,
   "id": "5a808c8c",
   "metadata": {},
   "outputs": [],
   "source": [
    "ex = '~(P&Q)|(P|Q)'"
   ]
  },
  {
   "cell_type": "code",
   "execution_count": 118,
   "id": "fb973d2f",
   "metadata": {},
   "outputs": [
    {
     "name": "stdout",
     "output_type": "stream",
     "text": [
      "PQ&~PQ||\n"
     ]
    }
   ],
   "source": [
    "# convert from infix to postfix\n",
    "ex = InFix2PostFix(ex)\n",
    "print(ex)"
   ]
  },
  {
   "cell_type": "code",
   "execution_count": 119,
   "id": "fba60d41",
   "metadata": {},
   "outputs": [
    {
     "name": "stdout",
     "output_type": "stream",
     "text": [
      "['P', 'Q', 'P&Q', '~(P&Q)', 'P|Q', '~(P&Q)|(P|Q)']\n"
     ]
    }
   ],
   "source": [
    "# create header for truth table\n",
    "header = createHeader(ex)\n",
    "print(header)"
   ]
  },
  {
   "cell_type": "code",
   "execution_count": 120,
   "id": "23496081",
   "metadata": {},
   "outputs": [
    {
     "name": "stdout",
     "output_type": "stream",
     "text": [
      "[[False, False, False, True, False, True], [False, True, False, True, True, True], [True, False, False, True, True, True], [True, True, True, False, True, True]]\n"
     ]
    }
   ],
   "source": [
    "# create body for truth table\n",
    "body = createBody(ex)\n",
    "print(body)"
   ]
  },
  {
   "cell_type": "code",
   "execution_count": 121,
   "id": "d59f01ec",
   "metadata": {},
   "outputs": [],
   "source": [
    "# create truth table from header and body\n",
    "table = createTable(header, body)"
   ]
  },
  {
   "cell_type": "code",
   "execution_count": 122,
   "id": "697ead5e",
   "metadata": {},
   "outputs": [
    {
     "data": {
      "text/html": [
       "<div>\n",
       "<style scoped>\n",
       "    .dataframe tbody tr th:only-of-type {\n",
       "        vertical-align: middle;\n",
       "    }\n",
       "\n",
       "    .dataframe tbody tr th {\n",
       "        vertical-align: top;\n",
       "    }\n",
       "\n",
       "    .dataframe thead th {\n",
       "        text-align: right;\n",
       "    }\n",
       "</style>\n",
       "<table border=\"1\" class=\"dataframe\">\n",
       "  <thead>\n",
       "    <tr style=\"text-align: right;\">\n",
       "      <th></th>\n",
       "      <th>P</th>\n",
       "      <th>Q</th>\n",
       "      <th>P&amp;Q</th>\n",
       "      <th>~(P&amp;Q)</th>\n",
       "      <th>P|Q</th>\n",
       "      <th>~(P&amp;Q)|(P|Q)</th>\n",
       "    </tr>\n",
       "  </thead>\n",
       "  <tbody>\n",
       "    <tr>\n",
       "      <th>0</th>\n",
       "      <td>False</td>\n",
       "      <td>False</td>\n",
       "      <td>False</td>\n",
       "      <td>True</td>\n",
       "      <td>False</td>\n",
       "      <td>True</td>\n",
       "    </tr>\n",
       "    <tr>\n",
       "      <th>1</th>\n",
       "      <td>False</td>\n",
       "      <td>True</td>\n",
       "      <td>False</td>\n",
       "      <td>True</td>\n",
       "      <td>True</td>\n",
       "      <td>True</td>\n",
       "    </tr>\n",
       "    <tr>\n",
       "      <th>2</th>\n",
       "      <td>True</td>\n",
       "      <td>False</td>\n",
       "      <td>False</td>\n",
       "      <td>True</td>\n",
       "      <td>True</td>\n",
       "      <td>True</td>\n",
       "    </tr>\n",
       "    <tr>\n",
       "      <th>3</th>\n",
       "      <td>True</td>\n",
       "      <td>True</td>\n",
       "      <td>True</td>\n",
       "      <td>False</td>\n",
       "      <td>True</td>\n",
       "      <td>True</td>\n",
       "    </tr>\n",
       "  </tbody>\n",
       "</table>\n",
       "</div>"
      ],
      "text/plain": [
       "       P      Q    P&Q  ~(P&Q)    P|Q  ~(P&Q)|(P|Q)\n",
       "0  False  False  False    True  False          True\n",
       "1  False   True  False    True   True          True\n",
       "2   True  False  False    True   True          True\n",
       "3   True   True   True   False   True          True"
      ]
     },
     "execution_count": 122,
     "metadata": {},
     "output_type": "execute_result"
    }
   ],
   "source": [
    "# print result to screen\n",
    "import pandas as pd\n",
    "df = pd.DataFrame(table)\n",
    "df"
   ]
  },
  {
   "cell_type": "code",
   "execution_count": null,
   "id": "5e82660d",
   "metadata": {},
   "outputs": [],
   "source": [
    "Code by Nguyễn Trọng Nhật"
   ]
  },
  {
   "cell_type": "code",
   "execution_count": null,
   "id": "b36594c2",
   "metadata": {},
   "outputs": [],
   "source": []
  },
  {
   "cell_type": "code",
   "execution_count": null,
   "id": "03133b0a",
   "metadata": {},
   "outputs": [],
   "source": []
  },
  {
   "cell_type": "code",
   "execution_count": null,
   "id": "2d729586",
   "metadata": {},
   "outputs": [],
   "source": []
  }
 ],
 "metadata": {
  "kernelspec": {
   "display_name": "Python 3 (ipykernel)",
   "language": "python",
   "name": "python3"
  },
  "language_info": {
   "codemirror_mode": {
    "name": "ipython",
    "version": 3
   },
   "file_extension": ".py",
   "mimetype": "text/x-python",
   "name": "python",
   "nbconvert_exporter": "python",
   "pygments_lexer": "ipython3",
   "version": "3.9.7"
  }
 },
 "nbformat": 4,
 "nbformat_minor": 5
}
